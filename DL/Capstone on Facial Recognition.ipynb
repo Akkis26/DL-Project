{
 "cells": [
  {
   "cell_type": "markdown",
   "id": "0338b238",
   "metadata": {},
   "source": [
    "# Specifying the folder where images are present"
   ]
  },
  {
   "cell_type": "code",
   "execution_count": 2,
   "id": "8323cbe5",
   "metadata": {},
   "outputs": [],
   "source": [
    "TrainingImagePath = \"C:\\\\Users\\\\hp\\\\Desktop\\\\IMAGE BASICS\\\\train\""
   ]
  },
  {
   "cell_type": "code",
   "execution_count": 3,
   "id": "da596b09",
   "metadata": {},
   "outputs": [],
   "source": [
    "validationImagePath = \"C:\\\\Users\\\\hp\\\\Desktop\\\\IMAGE BASICS\\\\validation\""
   ]
  },
  {
   "cell_type": "code",
   "execution_count": 4,
   "id": "0b3a86e5",
   "metadata": {},
   "outputs": [],
   "source": [
    "from keras.preprocessing.image import ImageDataGenerator"
   ]
  },
  {
   "cell_type": "code",
   "execution_count": null,
   "id": "cbf13ae5",
   "metadata": {},
   "outputs": [],
   "source": [
    "#data generator creates new images by applying various transformations like rotation,flipping,cropping.\n",
    "#it increases size of dataset and improves algorithm accuracy."
   ]
  },
  {
   "cell_type": "markdown",
   "id": "6310bb53",
   "metadata": {},
   "source": [
    "# base model"
   ]
  },
  {
   "cell_type": "code",
   "execution_count": 6,
   "id": "13be2a8a",
   "metadata": {},
   "outputs": [],
   "source": [
    "train_datagen = ImageDataGenerator(rescale = 1./225)"
   ]
  },
  {
   "cell_type": "code",
   "execution_count": 7,
   "id": "2c1a367d",
   "metadata": {},
   "outputs": [],
   "source": [
    "test_datagen = ImageDataGenerator(rescale = 1./225)"
   ]
  },
  {
   "cell_type": "code",
   "execution_count": null,
   "id": "e16517fb",
   "metadata": {},
   "outputs": [],
   "source": []
  },
  {
   "cell_type": "markdown",
   "id": "05629fdb",
   "metadata": {},
   "source": [
    "# Generating the training data"
   ]
  },
  {
   "cell_type": "code",
   "execution_count": 9,
   "id": "dfa42c58",
   "metadata": {},
   "outputs": [
    {
     "name": "stdout",
     "output_type": "stream",
     "text": [
      "Found 200 images belonging to 25 classes.\n"
     ]
    }
   ],
   "source": [
    "training_set = train_datagen.flow_from_directory(TrainingImagePath,\n",
    "                                                target_size = (64,64),\n",
    "                                                batch_size = 20,\n",
    "                                                class_mode = 'categorical')"
   ]
  },
  {
   "cell_type": "code",
   "execution_count": null,
   "id": "671f8dae",
   "metadata": {},
   "outputs": [],
   "source": [
    "#generates batches of image data from directory \n",
    "#resizing into 64x64 pixels\n",
    "#caategorical as images belong to different class"
   ]
  },
  {
   "cell_type": "markdown",
   "id": "2c15810a",
   "metadata": {},
   "source": [
    "# Validation set"
   ]
  },
  {
   "cell_type": "markdown",
   "id": "89184fb6",
   "metadata": {},
   "source": [
    "# Generating the validation data"
   ]
  },
  {
   "cell_type": "code",
   "execution_count": 11,
   "id": "3cc075fc",
   "metadata": {},
   "outputs": [
    {
     "name": "stdout",
     "output_type": "stream",
     "text": [
      "Found 50 images belonging to 25 classes.\n"
     ]
    }
   ],
   "source": [
    "validation_set = test_datagen.flow_from_directory(validationImagePath,\n",
    "                                                target_size = (64,64),\n",
    "                                                batch_size = 20,\n",
    "                                                class_mode = 'categorical')"
   ]
  },
  {
   "cell_type": "markdown",
   "id": "a582b592",
   "metadata": {},
   "source": [
    "# Libraries and model type"
   ]
  },
  {
   "cell_type": "code",
   "execution_count": null,
   "id": "da12711f",
   "metadata": {},
   "outputs": [],
   "source": [
    "# Create CNN Deep learning model"
   ]
  },
  {
   "cell_type": "code",
   "execution_count": 14,
   "id": "ece0fe30",
   "metadata": {},
   "outputs": [],
   "source": [
    "from keras.models import Sequential\n",
    "from keras.layers import Convolution2D\n",
    "from keras.layers import MaxPool2D\n",
    "from keras.layers import Flatten\n",
    "from keras.layers import Dense"
   ]
  },
  {
   "cell_type": "code",
   "execution_count": null,
   "id": "3d7d10e1",
   "metadata": {},
   "outputs": [],
   "source": [
    "# Initializing the Convolutional Neural Network"
   ]
  },
  {
   "cell_type": "code",
   "execution_count": 16,
   "id": "2fff8cc7",
   "metadata": {},
   "outputs": [],
   "source": [
    "classifier = Sequential()"
   ]
  },
  {
   "cell_type": "code",
   "execution_count": null,
   "id": "2257b78e",
   "metadata": {},
   "outputs": [],
   "source": [
    "#add layers one by one as they are initialized"
   ]
  },
  {
   "cell_type": "markdown",
   "id": "4cfe1d78",
   "metadata": {},
   "source": [
    "# MODEL"
   ]
  },
  {
   "cell_type": "code",
   "execution_count": null,
   "id": "696f26c2",
   "metadata": {},
   "outputs": [],
   "source": [
    "# STEP 1 Convolution\n",
    "# Adding the first layer of CNN\n",
    "# We are using the format (64,64,3) because we are using Tensorflow backend\n",
    "# It means 3 matrix of size (64x64) pixels representing Red, Green and Blue components of pixels"
   ]
  },
  {
   "cell_type": "code",
   "execution_count": 18,
   "id": "32963cf9",
   "metadata": {},
   "outputs": [],
   "source": [
    "classifier.add(Convolution2D(32, kernel_size=(3,3),\n",
    "                            input_shape=(64,64,3), activation ='relu'))"
   ]
  },
  {
   "cell_type": "code",
   "execution_count": null,
   "id": "6dbf6a73",
   "metadata": {},
   "outputs": [],
   "source": [
    "#helps in feature extraction."
   ]
  },
  {
   "cell_type": "code",
   "execution_count": null,
   "id": "afeee109",
   "metadata": {},
   "outputs": [],
   "source": [
    "#STEP 2- Max Pooling"
   ]
  },
  {
   "cell_type": "code",
   "execution_count": 20,
   "id": "89846aab",
   "metadata": {},
   "outputs": [],
   "source": [
    "classifier.add(MaxPool2D(pool_size=(2,2)))"
   ]
  },
  {
   "cell_type": "code",
   "execution_count": null,
   "id": "7ce61a47",
   "metadata": {},
   "outputs": [],
   "source": [
    "#reduces dimensionality of input data, computation is efficient"
   ]
  },
  {
   "cell_type": "code",
   "execution_count": null,
   "id": "2a5d6184",
   "metadata": {},
   "outputs": [],
   "source": [
    "# Additional layer of convolution for better accuracy"
   ]
  },
  {
   "cell_type": "code",
   "execution_count": 22,
   "id": "1170bde1",
   "metadata": {},
   "outputs": [],
   "source": [
    "classifier.add(Convolution2D(64, kernel_size=(3,3), activation='relu'))"
   ]
  },
  {
   "cell_type": "code",
   "execution_count": 23,
   "id": "26797a27",
   "metadata": {},
   "outputs": [],
   "source": [
    "classifier.add(MaxPool2D(pool_size=(2,2)))"
   ]
  },
  {
   "cell_type": "code",
   "execution_count": null,
   "id": "bc9a28df",
   "metadata": {},
   "outputs": [],
   "source": [
    "#STEP 3- Flattening"
   ]
  },
  {
   "cell_type": "code",
   "execution_count": 25,
   "id": "abef6142",
   "metadata": {},
   "outputs": [],
   "source": [
    "classifier.add(Flatten())"
   ]
  },
  {
   "cell_type": "code",
   "execution_count": null,
   "id": "a34d09a6",
   "metadata": {},
   "outputs": [],
   "source": [
    "#converts output from above layers into 1D array"
   ]
  },
  {
   "cell_type": "code",
   "execution_count": null,
   "id": "c0807f04",
   "metadata": {},
   "outputs": [],
   "source": [
    "#STEP 4 - Fully connected neural network"
   ]
  },
  {
   "cell_type": "code",
   "execution_count": 27,
   "id": "5bc26754",
   "metadata": {},
   "outputs": [],
   "source": [
    "classifier.add(Dense(64, activation='relu'))"
   ]
  },
  {
   "cell_type": "code",
   "execution_count": 28,
   "id": "ab05d9c6",
   "metadata": {},
   "outputs": [],
   "source": [
    "classifier.add(Dense(25, activation='softmax')) #25 - number of neurons"
   ]
  },
  {
   "cell_type": "code",
   "execution_count": null,
   "id": "00fd3278",
   "metadata": {},
   "outputs": [],
   "source": [
    "#final classification maps feature learned by previous layers to output classes"
   ]
  },
  {
   "cell_type": "code",
   "execution_count": 29,
   "id": "1521fca7",
   "metadata": {},
   "outputs": [
    {
     "name": "stdout",
     "output_type": "stream",
     "text": [
      "Model: \"sequential\"\n",
      "_________________________________________________________________\n",
      " Layer (type)                Output Shape              Param #   \n",
      "=================================================================\n",
      " conv2d (Conv2D)             (None, 62, 62, 32)        896       \n",
      "                                                                 \n",
      " max_pooling2d (MaxPooling2D  (None, 31, 31, 32)       0         \n",
      " )                                                               \n",
      "                                                                 \n",
      " conv2d_1 (Conv2D)           (None, 29, 29, 64)        18496     \n",
      "                                                                 \n",
      " max_pooling2d_1 (MaxPooling  (None, 14, 14, 64)       0         \n",
      " 2D)                                                             \n",
      "                                                                 \n",
      " flatten (Flatten)           (None, 12544)             0         \n",
      "                                                                 \n",
      " dense (Dense)               (None, 64)                802880    \n",
      "                                                                 \n",
      " dense_1 (Dense)             (None, 25)                1625      \n",
      "                                                                 \n",
      "=================================================================\n",
      "Total params: 823,897\n",
      "Trainable params: 823,897\n",
      "Non-trainable params: 0\n",
      "_________________________________________________________________\n"
     ]
    }
   ],
   "source": [
    "classifier.summary()"
   ]
  },
  {
   "cell_type": "markdown",
   "id": "aa3726de",
   "metadata": {},
   "source": [
    "# Compiler"
   ]
  },
  {
   "cell_type": "code",
   "execution_count": 30,
   "id": "b7cdf085",
   "metadata": {},
   "outputs": [],
   "source": [
    "# Compiling the CNN"
   ]
  },
  {
   "cell_type": "code",
   "execution_count": 31,
   "id": "21641481",
   "metadata": {},
   "outputs": [],
   "source": [
    "classifier.compile(loss='categorical_crossentropy',\n",
    "                  optimizer = 'adam', metrics =['accuracy'])"
   ]
  },
  {
   "cell_type": "code",
   "execution_count": null,
   "id": "49617aad",
   "metadata": {},
   "outputs": [],
   "source": [
    "#configuration of model\n",
    "#measures difference b/w predicted and actual class probabilties for i/p\n",
    "#used to adjust weight of model during training to minimise loss function\n",
    "#evaluate % of correctly classified images"
   ]
  },
  {
   "cell_type": "markdown",
   "id": "e1a12966",
   "metadata": {},
   "source": [
    "# Execution of model"
   ]
  },
  {
   "cell_type": "code",
   "execution_count": 32,
   "id": "36a06941",
   "metadata": {},
   "outputs": [],
   "source": [
    "# Starting the model training"
   ]
  },
  {
   "cell_type": "code",
   "execution_count": 33,
   "id": "48f4fa72",
   "metadata": {},
   "outputs": [
    {
     "name": "stderr",
     "output_type": "stream",
     "text": [
      "C:\\Users\\hp\\AppData\\Local\\Temp\\ipykernel_7948\\2354014473.py:1: UserWarning: `Model.fit_generator` is deprecated and will be removed in a future version. Please use `Model.fit`, which supports generators.\n",
      "  history = classifier.fit_generator(training_set, epochs =20,\n"
     ]
    },
    {
     "name": "stdout",
     "output_type": "stream",
     "text": [
      "Epoch 1/20\n",
      "10/10 [==============================] - 11s 1s/step - loss: 3.2445 - accuracy: 0.0450 - val_loss: 3.0873 - val_accuracy: 0.1600\n",
      "Epoch 2/20\n",
      "10/10 [==============================] - 8s 839ms/step - loss: 2.7988 - accuracy: 0.3300 - val_loss: 2.5455 - val_accuracy: 0.3600\n",
      "Epoch 3/20\n",
      "10/10 [==============================] - 9s 963ms/step - loss: 2.0753 - accuracy: 0.5000 - val_loss: 1.8452 - val_accuracy: 0.5000\n",
      "Epoch 4/20\n",
      "10/10 [==============================] - 8s 824ms/step - loss: 1.1930 - accuracy: 0.7200 - val_loss: 1.3840 - val_accuracy: 0.6400\n",
      "Epoch 5/20\n",
      "10/10 [==============================] - 8s 850ms/step - loss: 0.5854 - accuracy: 0.8900 - val_loss: 1.0909 - val_accuracy: 0.7000\n",
      "Epoch 6/20\n",
      "10/10 [==============================] - 8s 848ms/step - loss: 0.2407 - accuracy: 0.9550 - val_loss: 1.0403 - val_accuracy: 0.7200\n",
      "Epoch 7/20\n",
      "10/10 [==============================] - 8s 831ms/step - loss: 0.1230 - accuracy: 0.9800 - val_loss: 0.8671 - val_accuracy: 0.7600\n",
      "Epoch 8/20\n",
      "10/10 [==============================] - 8s 825ms/step - loss: 0.0523 - accuracy: 1.0000 - val_loss: 1.1711 - val_accuracy: 0.7200\n",
      "Epoch 9/20\n",
      "10/10 [==============================] - 8s 849ms/step - loss: 0.0431 - accuracy: 0.9900 - val_loss: 0.9887 - val_accuracy: 0.7400\n",
      "Epoch 10/20\n",
      "10/10 [==============================] - 8s 862ms/step - loss: 0.0177 - accuracy: 1.0000 - val_loss: 1.0157 - val_accuracy: 0.7600\n",
      "Epoch 11/20\n",
      "10/10 [==============================] - 8s 831ms/step - loss: 0.0134 - accuracy: 1.0000 - val_loss: 1.0320 - val_accuracy: 0.7200\n",
      "Epoch 12/20\n",
      "10/10 [==============================] - 8s 839ms/step - loss: 0.0164 - accuracy: 0.9950 - val_loss: 1.1740 - val_accuracy: 0.7400\n",
      "Epoch 13/20\n",
      "10/10 [==============================] - 8s 847ms/step - loss: 0.0327 - accuracy: 0.9950 - val_loss: 1.0498 - val_accuracy: 0.7600\n",
      "Epoch 14/20\n",
      "10/10 [==============================] - 8s 848ms/step - loss: 0.0129 - accuracy: 1.0000 - val_loss: 0.8940 - val_accuracy: 0.7400\n",
      "Epoch 15/20\n",
      "10/10 [==============================] - 10s 1s/step - loss: 0.0050 - accuracy: 1.0000 - val_loss: 1.0468 - val_accuracy: 0.7400\n",
      "Epoch 16/20\n",
      "10/10 [==============================] - 10s 1s/step - loss: 0.0037 - accuracy: 1.0000 - val_loss: 1.0073 - val_accuracy: 0.7800\n",
      "Epoch 17/20\n",
      "10/10 [==============================] - 10s 1s/step - loss: 0.0023 - accuracy: 1.0000 - val_loss: 0.9544 - val_accuracy: 0.8000\n",
      "Epoch 18/20\n",
      "10/10 [==============================] - 10s 1s/step - loss: 0.0019 - accuracy: 1.0000 - val_loss: 0.9362 - val_accuracy: 0.8000\n",
      "Epoch 19/20\n",
      "10/10 [==============================] - 10s 1s/step - loss: 0.0016 - accuracy: 1.0000 - val_loss: 0.9415 - val_accuracy: 0.7800\n",
      "Epoch 20/20\n",
      "10/10 [==============================] - 10s 1s/step - loss: 0.0014 - accuracy: 1.0000 - val_loss: 0.9553 - val_accuracy: 0.7800\n"
     ]
    }
   ],
   "source": [
    "history = classifier.fit_generator(training_set, epochs =20,\n",
    "                                  validation_data=validation_set)"
   ]
  },
  {
   "cell_type": "markdown",
   "id": "a667778a",
   "metadata": {},
   "source": [
    "# Accuracy base model"
   ]
  },
  {
   "cell_type": "code",
   "execution_count": 34,
   "id": "da29d502",
   "metadata": {},
   "outputs": [],
   "source": [
    "#Displaying curves of loss and accuracy during training"
   ]
  },
  {
   "cell_type": "code",
   "execution_count": 35,
   "id": "6a3b388c",
   "metadata": {},
   "outputs": [],
   "source": [
    "import matplotlib.pyplot as plt"
   ]
  },
  {
   "cell_type": "code",
   "execution_count": 36,
   "id": "a2f54536",
   "metadata": {},
   "outputs": [],
   "source": [
    "acc = history.history['accuracy']"
   ]
  },
  {
   "cell_type": "code",
   "execution_count": 37,
   "id": "4d3c58b8",
   "metadata": {},
   "outputs": [],
   "source": [
    "val_acc = history.history['val_accuracy']"
   ]
  },
  {
   "cell_type": "code",
   "execution_count": 38,
   "id": "c4eade01",
   "metadata": {},
   "outputs": [],
   "source": [
    "loss = history.history['loss']"
   ]
  },
  {
   "cell_type": "code",
   "execution_count": 39,
   "id": "e04e4857",
   "metadata": {},
   "outputs": [],
   "source": [
    "val_loss = history.history['val_loss']"
   ]
  },
  {
   "cell_type": "code",
   "execution_count": 40,
   "id": "30d0b84f",
   "metadata": {},
   "outputs": [],
   "source": [
    "epochs = range(1, len(acc) + 1)"
   ]
  },
  {
   "cell_type": "code",
   "execution_count": 41,
   "id": "7002cc49",
   "metadata": {},
   "outputs": [
    {
     "data": {
      "text/plain": [
       "<Figure size 432x288 with 0 Axes>"
      ]
     },
     "execution_count": 41,
     "metadata": {},
     "output_type": "execute_result"
    },
    {
     "data": {
      "image/png": "[encoded data removed]",
      "text/plain": [
       "<Figure size 432x288 with 1 Axes>"
      ]
     },
     "metadata": {
      "needs_background": "light"
     },
     "output_type": "display_data"
    },
    {
     "data": {
      "text/plain": [
       "<Figure size 432x288 with 0 Axes>"
      ]
     },
     "metadata": {},
     "output_type": "display_data"
    }
   ],
   "source": [
    "plt.plot(epochs, acc, 'bo', label='Training acc')\n",
    "plt.plot(epochs, val_acc, 'r', label='Validation acc')\n",
    "plt.title('Training and validation accuracy')\n",
    "plt.legend()\n",
    "plt.figure()"
   ]
  },
  {
   "cell_type": "code",
   "execution_count": null,
   "id": "eebe280e",
   "metadata": {},
   "outputs": [],
   "source": []
  },
  {
   "cell_type": "markdown",
   "id": "e204e892",
   "metadata": {},
   "source": [
    "# Loss base model"
   ]
  },
  {
   "cell_type": "code",
   "execution_count": 42,
   "id": "11e1d8e3",
   "metadata": {},
   "outputs": [
    {
     "data": {
      "text/plain": [
       "<Figure size 432x288 with 0 Axes>"
      ]
     },
     "execution_count": 42,
     "metadata": {},
     "output_type": "execute_result"
    },
    {
     "data": {
      "image/png": "[encoded data removed]",
      "text/plain": [
       "<Figure size 432x288 with 1 Axes>"
      ]
     },
     "metadata": {
      "needs_background": "light"
     },
     "output_type": "display_data"
    },
    {
     "data": {
      "text/plain": [
       "<Figure size 432x288 with 0 Axes>"
      ]
     },
     "metadata": {},
     "output_type": "display_data"
    }
   ],
   "source": [
    "plt.plot(epochs, loss, 'bo', label='Training loss')\n",
    "plt.plot(epochs, val_loss, 'r', label='Validation loss')\n",
    "plt.title('Training and validation loss')\n",
    "plt.legend()\n",
    "plt.figure()"
   ]
  },
  {
   "cell_type": "code",
   "execution_count": 43,
   "id": "e42e2f8e",
   "metadata": {},
   "outputs": [],
   "source": [
    "# Lets improve"
   ]
  },
  {
   "cell_type": "markdown",
   "id": "67c72ddf",
   "metadata": {},
   "source": [
    "# Model 2"
   ]
  },
  {
   "cell_type": "code",
   "execution_count": 45,
   "id": "d36a13e2",
   "metadata": {},
   "outputs": [],
   "source": [
    "# Adding parameters in the ImageDatagenerator"
   ]
  },
  {
   "cell_type": "code",
   "execution_count": 46,
   "id": "b327fbe6",
   "metadata": {},
   "outputs": [],
   "source": [
    "train_datagen = ImageDataGenerator(rescale=1./225, shear_range=0.5,\n",
    "                                  zoom_range=0.5, width_shift_range=0.2,\n",
    "                                  height_shift_range=0.2)"
   ]
  },
  {
   "cell_type": "code",
   "execution_count": null,
   "id": "7030e032",
   "metadata": {},
   "outputs": [],
   "source": []
  },
  {
   "cell_type": "code",
   "execution_count": 47,
   "id": "1cc4e1de",
   "metadata": {},
   "outputs": [],
   "source": [
    "# No transformations are done on the testing images"
   ]
  },
  {
   "cell_type": "code",
   "execution_count": 48,
   "id": "c95e3a4b",
   "metadata": {},
   "outputs": [],
   "source": [
    "test_datgen = ImageDataGenerator(rescale=1./225)"
   ]
  },
  {
   "cell_type": "code",
   "execution_count": null,
   "id": "221514c2",
   "metadata": {},
   "outputs": [],
   "source": []
  },
  {
   "cell_type": "code",
   "execution_count": 49,
   "id": "7a842909",
   "metadata": {},
   "outputs": [],
   "source": [
    "# Generating the training data"
   ]
  },
  {
   "cell_type": "code",
   "execution_count": 50,
   "id": "e4eec759",
   "metadata": {},
   "outputs": [
    {
     "name": "stdout",
     "output_type": "stream",
     "text": [
      "Found 200 images belonging to 25 classes.\n"
     ]
    }
   ],
   "source": [
    "training_set = train_datagen.flow_from_directory(TrainingImagePath,\n",
    "                                                target_size=(64,64),\n",
    "                                                batch_size=20,\n",
    "                                                class_mode='categorical')"
   ]
  },
  {
   "cell_type": "code",
   "execution_count": null,
   "id": "8c423eda",
   "metadata": {},
   "outputs": [],
   "source": []
  },
  {
   "cell_type": "code",
   "execution_count": 51,
   "id": "31d3f981",
   "metadata": {},
   "outputs": [],
   "source": [
    "# Generating the validation data"
   ]
  },
  {
   "cell_type": "code",
   "execution_count": 52,
   "id": "2ac9a009",
   "metadata": {},
   "outputs": [
    {
     "name": "stdout",
     "output_type": "stream",
     "text": [
      "Found 50 images belonging to 25 classes.\n"
     ]
    }
   ],
   "source": [
    "validation_set = test_datagen.flow_from_directory(validationImagePath,\n",
    "                                                target_size=(64,64),\n",
    "                                                batch_size=20,\n",
    "                                                class_mode='categorical')"
   ]
  },
  {
   "cell_type": "code",
   "execution_count": null,
   "id": "5aec80d5",
   "metadata": {},
   "outputs": [],
   "source": []
  },
  {
   "cell_type": "code",
   "execution_count": 53,
   "id": "419ed527",
   "metadata": {},
   "outputs": [],
   "source": [
    "#Create Cnn deep learning model"
   ]
  },
  {
   "cell_type": "code",
   "execution_count": 54,
   "id": "dd2270d6",
   "metadata": {},
   "outputs": [],
   "source": [
    "from keras.models import Sequential\n",
    "from keras.layers import Convolution2D\n",
    "from keras.layers import MaxPool2D\n",
    "from keras.layers import Flatten\n",
    "from keras.layers import Dense"
   ]
  },
  {
   "cell_type": "code",
   "execution_count": 55,
   "id": "e7991c5a",
   "metadata": {},
   "outputs": [],
   "source": [
    "# Initializing the Convolutional Neural Network"
   ]
  },
  {
   "cell_type": "code",
   "execution_count": 56,
   "id": "b35b1bd3",
   "metadata": {},
   "outputs": [],
   "source": [
    "classifier = Sequential()"
   ]
  },
  {
   "cell_type": "code",
   "execution_count": 57,
   "id": "675de677",
   "metadata": {},
   "outputs": [],
   "source": [
    "# Convolution"
   ]
  },
  {
   "cell_type": "code",
   "execution_count": 58,
   "id": "41ea7190",
   "metadata": {},
   "outputs": [],
   "source": [
    "classifier.add(Convolution2D(32, kernel_size=(3,3),\n",
    "                            input_shape=(64,64,3), activation ='relu'))"
   ]
  },
  {
   "cell_type": "code",
   "execution_count": 59,
   "id": "67ccb2d7",
   "metadata": {},
   "outputs": [],
   "source": [
    "#Max Pooling"
   ]
  },
  {
   "cell_type": "code",
   "execution_count": 60,
   "id": "4274ae60",
   "metadata": {},
   "outputs": [],
   "source": [
    "classifier.add(MaxPool2D(pool_size=(2,2)))"
   ]
  },
  {
   "cell_type": "code",
   "execution_count": 61,
   "id": "09ee17bb",
   "metadata": {},
   "outputs": [],
   "source": [
    "# Additional layer of convolution for better accuracy"
   ]
  },
  {
   "cell_type": "code",
   "execution_count": 62,
   "id": "59700aaf",
   "metadata": {},
   "outputs": [],
   "source": [
    "classifier.add(Convolution2D(64, kernel_size=(3,3), activation='relu'))"
   ]
  },
  {
   "cell_type": "code",
   "execution_count": 63,
   "id": "6a26d79a",
   "metadata": {},
   "outputs": [],
   "source": [
    "classifier.add(MaxPool2D(pool_size=(2,2)))"
   ]
  },
  {
   "cell_type": "code",
   "execution_count": 64,
   "id": "63e421f6",
   "metadata": {},
   "outputs": [],
   "source": [
    "#Flattening"
   ]
  },
  {
   "cell_type": "code",
   "execution_count": 65,
   "id": "ee3eb2d6",
   "metadata": {},
   "outputs": [],
   "source": [
    "classifier.add(Flatten())"
   ]
  },
  {
   "cell_type": "code",
   "execution_count": 66,
   "id": "521c5572",
   "metadata": {},
   "outputs": [],
   "source": [
    "#Fully connected neural network"
   ]
  },
  {
   "cell_type": "code",
   "execution_count": 67,
   "id": "4b484240",
   "metadata": {},
   "outputs": [],
   "source": [
    "classifier.add(Dense(64, activation='relu'))#hidden layer"
   ]
  },
  {
   "cell_type": "code",
   "execution_count": 68,
   "id": "9c0df7bb",
   "metadata": {},
   "outputs": [],
   "source": [
    "classifier.add(Dense(25, activation='softmax'))#output layer"
   ]
  },
  {
   "cell_type": "code",
   "execution_count": 69,
   "id": "2a29ce4b",
   "metadata": {},
   "outputs": [
    {
     "name": "stdout",
     "output_type": "stream",
     "text": [
      "Model: \"sequential_1\"\n",
      "_________________________________________________________________\n",
      " Layer (type)                Output Shape              Param #   \n",
      "=================================================================\n",
      " conv2d_2 (Conv2D)           (None, 62, 62, 32)        896       \n",
      "                                                                 \n",
      " max_pooling2d_2 (MaxPooling  (None, 31, 31, 32)       0         \n",
      " 2D)                                                             \n",
      "                                                                 \n",
      " conv2d_3 (Conv2D)           (None, 29, 29, 64)        18496     \n",
      "                                                                 \n",
      " max_pooling2d_3 (MaxPooling  (None, 14, 14, 64)       0         \n",
      " 2D)                                                             \n",
      "                                                                 \n",
      " flatten_1 (Flatten)         (None, 12544)             0         \n",
      "                                                                 \n",
      " dense_2 (Dense)             (None, 64)                802880    \n",
      "                                                                 \n",
      " dense_3 (Dense)             (None, 25)                1625      \n",
      "                                                                 \n",
      "=================================================================\n",
      "Total params: 823,897\n",
      "Trainable params: 823,897\n",
      "Non-trainable params: 0\n",
      "_________________________________________________________________\n"
     ]
    }
   ],
   "source": [
    "classifier.summary() "
   ]
  },
  {
   "cell_type": "code",
   "execution_count": 70,
   "id": "10684d06",
   "metadata": {},
   "outputs": [],
   "source": [
    "#Compiler"
   ]
  },
  {
   "cell_type": "code",
   "execution_count": 71,
   "id": "cc589088",
   "metadata": {},
   "outputs": [],
   "source": [
    "classifier.compile(loss='categorical_crossentropy',\n",
    "                  optimizer='adam', metrics=['accuracy'])"
   ]
  },
  {
   "cell_type": "code",
   "execution_count": 72,
   "id": "74654438",
   "metadata": {},
   "outputs": [],
   "source": [
    "#Execute"
   ]
  },
  {
   "cell_type": "code",
   "execution_count": 73,
   "id": "e2cf2a98",
   "metadata": {},
   "outputs": [],
   "source": [
    "#Starting the model training"
   ]
  },
  {
   "cell_type": "code",
   "execution_count": 74,
   "id": "76babdab",
   "metadata": {},
   "outputs": [
    {
     "name": "stderr",
     "output_type": "stream",
     "text": [
      "C:\\Users\\hp\\AppData\\Local\\Temp\\ipykernel_7948\\346272482.py:1: UserWarning: `Model.fit_generator` is deprecated and will be removed in a future version. Please use `Model.fit`, which supports generators.\n",
      "  history = classifier.fit_generator(training_set, epochs =100,\n"
     ]
    },
    {
     "name": "stdout",
     "output_type": "stream",
     "text": [
      "Epoch 1/100\n",
      "10/10 [==============================] - 13s 1s/step - loss: 3.3360 - accuracy: 0.0450 - val_loss: 3.2019 - val_accuracy: 0.0800\n",
      "Epoch 2/100\n",
      "10/10 [==============================] - 8s 866ms/step - loss: 3.1888 - accuracy: 0.0700 - val_loss: 3.0879 - val_accuracy: 0.0800\n",
      "Epoch 3/100\n",
      "10/10 [==============================] - 8s 832ms/step - loss: 3.0612 - accuracy: 0.0750 - val_loss: 2.9013 - val_accuracy: 0.1200\n",
      "Epoch 4/100\n",
      "10/10 [==============================] - 9s 870ms/step - loss: 2.9059 - accuracy: 0.1600 - val_loss: 2.7258 - val_accuracy: 0.1800\n",
      "Epoch 5/100\n",
      "10/10 [==============================] - 8s 838ms/step - loss: 2.7511 - accuracy: 0.1600 - val_loss: 2.5679 - val_accuracy: 0.2400\n",
      "Epoch 6/100\n",
      "10/10 [==============================] - 8s 840ms/step - loss: 2.6374 - accuracy: 0.2100 - val_loss: 2.4349 - val_accuracy: 0.2400\n",
      "Epoch 7/100\n",
      "10/10 [==============================] - 8s 853ms/step - loss: 2.5101 - accuracy: 0.2550 - val_loss: 2.2912 - val_accuracy: 0.3600\n",
      "Epoch 8/100\n",
      "10/10 [==============================] - 8s 842ms/step - loss: 2.4196 - accuracy: 0.3000 - val_loss: 2.2105 - val_accuracy: 0.4200\n",
      "Epoch 9/100\n",
      "10/10 [==============================] - 9s 872ms/step - loss: 2.2958 - accuracy: 0.3450 - val_loss: 2.3839 - val_accuracy: 0.2800\n",
      "Epoch 10/100\n",
      "10/10 [==============================] - 8s 806ms/step - loss: 2.1601 - accuracy: 0.3550 - val_loss: 1.9725 - val_accuracy: 0.4400\n",
      "Epoch 11/100\n",
      "10/10 [==============================] - 8s 825ms/step - loss: 2.0602 - accuracy: 0.3800 - val_loss: 1.8778 - val_accuracy: 0.4000\n",
      "Epoch 12/100\n",
      "10/10 [==============================] - 8s 815ms/step - loss: 1.9784 - accuracy: 0.4100 - val_loss: 1.9621 - val_accuracy: 0.4000\n",
      "Epoch 13/100\n",
      "10/10 [==============================] - 9s 889ms/step - loss: 1.8682 - accuracy: 0.4050 - val_loss: 1.8100 - val_accuracy: 0.3600\n",
      "Epoch 14/100\n",
      "10/10 [==============================] - 8s 831ms/step - loss: 1.8077 - accuracy: 0.4600 - val_loss: 1.4857 - val_accuracy: 0.5200\n",
      "Epoch 15/100\n",
      "10/10 [==============================] - 9s 895ms/step - loss: 1.5779 - accuracy: 0.5850 - val_loss: 1.4202 - val_accuracy: 0.5800\n",
      "Epoch 16/100\n",
      "10/10 [==============================] - 8s 824ms/step - loss: 1.6671 - accuracy: 0.4950 - val_loss: 1.9908 - val_accuracy: 0.4000\n",
      "Epoch 17/100\n",
      "10/10 [==============================] - 8s 861ms/step - loss: 1.5730 - accuracy: 0.5150 - val_loss: 1.6966 - val_accuracy: 0.3600\n",
      "Epoch 18/100\n",
      "10/10 [==============================] - 8s 845ms/step - loss: 1.5048 - accuracy: 0.5400 - val_loss: 1.4035 - val_accuracy: 0.6000\n",
      "Epoch 19/100\n",
      "10/10 [==============================] - 8s 837ms/step - loss: 1.6009 - accuracy: 0.5300 - val_loss: 1.6184 - val_accuracy: 0.4400\n",
      "Epoch 20/100\n",
      "10/10 [==============================] - 8s 857ms/step - loss: 1.3386 - accuracy: 0.6150 - val_loss: 1.5595 - val_accuracy: 0.4600\n",
      "Epoch 21/100\n",
      "10/10 [==============================] - 8s 856ms/step - loss: 1.2804 - accuracy: 0.6050 - val_loss: 1.3780 - val_accuracy: 0.5000\n",
      "Epoch 22/100\n",
      "10/10 [==============================] - 8s 803ms/step - loss: 1.3057 - accuracy: 0.5900 - val_loss: 1.4820 - val_accuracy: 0.5800\n",
      "Epoch 23/100\n",
      "10/10 [==============================] - 9s 872ms/step - loss: 1.1459 - accuracy: 0.6150 - val_loss: 1.4762 - val_accuracy: 0.5400\n",
      "Epoch 24/100\n",
      "10/10 [==============================] - 8s 842ms/step - loss: 1.3160 - accuracy: 0.5850 - val_loss: 1.3401 - val_accuracy: 0.5400\n",
      "Epoch 25/100\n",
      "10/10 [==============================] - 8s 846ms/step - loss: 1.2615 - accuracy: 0.6250 - val_loss: 1.2024 - val_accuracy: 0.6200\n",
      "Epoch 26/100\n",
      "10/10 [==============================] - 8s 806ms/step - loss: 1.0443 - accuracy: 0.6900 - val_loss: 1.1685 - val_accuracy: 0.6600\n",
      "Epoch 27/100\n",
      "10/10 [==============================] - 8s 829ms/step - loss: 0.9429 - accuracy: 0.7150 - val_loss: 1.1381 - val_accuracy: 0.6600\n",
      "Epoch 28/100\n",
      "10/10 [==============================] - 8s 848ms/step - loss: 1.1090 - accuracy: 0.6650 - val_loss: 1.2187 - val_accuracy: 0.6600\n",
      "Epoch 29/100\n",
      "10/10 [==============================] - 8s 821ms/step - loss: 0.9346 - accuracy: 0.7000 - val_loss: 0.9831 - val_accuracy: 0.7200\n",
      "Epoch 30/100\n",
      "10/10 [==============================] - 8s 811ms/step - loss: 1.0606 - accuracy: 0.6950 - val_loss: 0.9220 - val_accuracy: 0.7600\n",
      "Epoch 31/100\n",
      "10/10 [==============================] - 8s 843ms/step - loss: 1.1313 - accuracy: 0.6500 - val_loss: 1.0084 - val_accuracy: 0.7600\n",
      "Epoch 32/100\n",
      "10/10 [==============================] - 9s 863ms/step - loss: 0.9873 - accuracy: 0.6800 - val_loss: 0.8519 - val_accuracy: 0.7800\n",
      "Epoch 33/100\n",
      "10/10 [==============================] - 9s 879ms/step - loss: 1.0719 - accuracy: 0.6650 - val_loss: 0.9680 - val_accuracy: 0.7600\n",
      "Epoch 34/100\n",
      "10/10 [==============================] - 8s 857ms/step - loss: 0.8915 - accuracy: 0.7300 - val_loss: 0.9487 - val_accuracy: 0.7600\n",
      "Epoch 35/100\n",
      "10/10 [==============================] - 10s 1s/step - loss: 0.8748 - accuracy: 0.7200 - val_loss: 1.1243 - val_accuracy: 0.6800\n",
      "Epoch 36/100\n",
      "10/10 [==============================] - 8s 837ms/step - loss: 0.8714 - accuracy: 0.7550 - val_loss: 1.0038 - val_accuracy: 0.6600\n",
      "Epoch 37/100\n",
      "10/10 [==============================] - 8s 822ms/step - loss: 0.8404 - accuracy: 0.7200 - val_loss: 0.9944 - val_accuracy: 0.7200\n",
      "Epoch 38/100\n",
      "10/10 [==============================] - 8s 837ms/step - loss: 0.7954 - accuracy: 0.7100 - val_loss: 0.9351 - val_accuracy: 0.7600\n",
      "Epoch 39/100\n",
      "10/10 [==============================] - 8s 862ms/step - loss: 0.6933 - accuracy: 0.8150 - val_loss: 0.9638 - val_accuracy: 0.7600\n",
      "Epoch 40/100\n",
      "10/10 [==============================] - 9s 858ms/step - loss: 0.7179 - accuracy: 0.7500 - val_loss: 0.9168 - val_accuracy: 0.7600\n",
      "Epoch 41/100\n",
      "10/10 [==============================] - 8s 837ms/step - loss: 0.8052 - accuracy: 0.7700 - val_loss: 0.9377 - val_accuracy: 0.7400\n",
      "Epoch 42/100\n",
      "10/10 [==============================] - 8s 831ms/step - loss: 0.8528 - accuracy: 0.7600 - val_loss: 0.8309 - val_accuracy: 0.7800\n",
      "Epoch 43/100\n",
      "10/10 [==============================] - 9s 865ms/step - loss: 0.6880 - accuracy: 0.7450 - val_loss: 1.1576 - val_accuracy: 0.6400\n",
      "Epoch 44/100\n",
      "10/10 [==============================] - 10s 997ms/step - loss: 0.7722 - accuracy: 0.7600 - val_loss: 1.0320 - val_accuracy: 0.7000\n",
      "Epoch 45/100\n",
      "10/10 [==============================] - 9s 952ms/step - loss: 0.7768 - accuracy: 0.7500 - val_loss: 1.4794 - val_accuracy: 0.7000\n",
      "Epoch 46/100\n",
      "10/10 [==============================] - 10s 1s/step - loss: 0.6831 - accuracy: 0.7850 - val_loss: 1.0182 - val_accuracy: 0.7000\n",
      "Epoch 47/100\n",
      "10/10 [==============================] - 9s 895ms/step - loss: 0.6989 - accuracy: 0.7750 - val_loss: 0.9672 - val_accuracy: 0.7800\n",
      "Epoch 48/100\n",
      "10/10 [==============================] - 8s 834ms/step - loss: 0.6156 - accuracy: 0.8000 - val_loss: 1.1974 - val_accuracy: 0.7000\n",
      "Epoch 49/100\n",
      "10/10 [==============================] - 8s 831ms/step - loss: 0.6139 - accuracy: 0.7900 - val_loss: 1.1362 - val_accuracy: 0.7200\n",
      "Epoch 50/100\n",
      "10/10 [==============================] - 9s 923ms/step - loss: 0.6361 - accuracy: 0.8100 - val_loss: 0.9629 - val_accuracy: 0.7000\n",
      "Epoch 51/100\n",
      "10/10 [==============================] - 11s 1s/step - loss: 0.6664 - accuracy: 0.8200 - val_loss: 0.9436 - val_accuracy: 0.7000\n",
      "Epoch 52/100\n",
      "10/10 [==============================] - 10s 1s/step - loss: 0.5419 - accuracy: 0.8400 - val_loss: 0.8383 - val_accuracy: 0.8000\n",
      "Epoch 53/100\n",
      "10/10 [==============================] - 10s 1s/step - loss: 0.5383 - accuracy: 0.8400 - val_loss: 1.2436 - val_accuracy: 0.6800\n",
      "Epoch 54/100\n",
      "10/10 [==============================] - 9s 914ms/step - loss: 0.6042 - accuracy: 0.8500 - val_loss: 1.3146 - val_accuracy: 0.7200\n",
      "Epoch 55/100\n",
      "10/10 [==============================] - 8s 829ms/step - loss: 0.6270 - accuracy: 0.8250 - val_loss: 0.7674 - val_accuracy: 0.7400\n",
      "Epoch 56/100\n",
      "10/10 [==============================] - 8s 835ms/step - loss: 0.4425 - accuracy: 0.8950 - val_loss: 0.7101 - val_accuracy: 0.8200\n",
      "Epoch 57/100\n",
      "10/10 [==============================] - 9s 872ms/step - loss: 0.5581 - accuracy: 0.8250 - val_loss: 1.1070 - val_accuracy: 0.7600\n",
      "Epoch 58/100\n",
      "10/10 [==============================] - 9s 934ms/step - loss: 0.5648 - accuracy: 0.8100 - val_loss: 0.8215 - val_accuracy: 0.7200\n",
      "Epoch 59/100\n",
      "10/10 [==============================] - 9s 890ms/step - loss: 0.5724 - accuracy: 0.8300 - val_loss: 0.7290 - val_accuracy: 0.7800\n",
      "Epoch 60/100\n",
      "10/10 [==============================] - 8s 851ms/step - loss: 0.5113 - accuracy: 0.8450 - val_loss: 0.7886 - val_accuracy: 0.7800\n",
      "Epoch 61/100\n",
      "10/10 [==============================] - 9s 883ms/step - loss: 0.5611 - accuracy: 0.8300 - val_loss: 0.7222 - val_accuracy: 0.8600\n",
      "Epoch 62/100\n",
      "10/10 [==============================] - 8s 809ms/step - loss: 0.3936 - accuracy: 0.8950 - val_loss: 1.3127 - val_accuracy: 0.5800\n",
      "Epoch 63/100\n",
      "10/10 [==============================] - 8s 826ms/step - loss: 0.5959 - accuracy: 0.8250 - val_loss: 1.0564 - val_accuracy: 0.6800\n",
      "Epoch 64/100\n",
      "10/10 [==============================] - 9s 942ms/step - loss: 0.4673 - accuracy: 0.8550 - val_loss: 0.7142 - val_accuracy: 0.8000\n",
      "Epoch 65/100\n",
      "10/10 [==============================] - 8s 849ms/step - loss: 0.4665 - accuracy: 0.8550 - val_loss: 1.1309 - val_accuracy: 0.7200\n",
      "Epoch 66/100\n",
      "10/10 [==============================] - 9s 908ms/step - loss: 0.5259 - accuracy: 0.8300 - val_loss: 0.8358 - val_accuracy: 0.8000\n",
      "Epoch 67/100\n",
      "10/10 [==============================] - 9s 876ms/step - loss: 0.4688 - accuracy: 0.8600 - val_loss: 0.9483 - val_accuracy: 0.7000\n",
      "Epoch 68/100\n",
      "10/10 [==============================] - 10s 956ms/step - loss: 0.4575 - accuracy: 0.8600 - val_loss: 0.6490 - val_accuracy: 0.7800\n",
      "Epoch 69/100\n",
      "10/10 [==============================] - 9s 867ms/step - loss: 0.4154 - accuracy: 0.8900 - val_loss: 0.9989 - val_accuracy: 0.6600\n",
      "Epoch 70/100\n",
      "10/10 [==============================] - 9s 871ms/step - loss: 0.3936 - accuracy: 0.8600 - val_loss: 1.0463 - val_accuracy: 0.7000\n",
      "Epoch 71/100\n",
      "10/10 [==============================] - 9s 888ms/step - loss: 0.4600 - accuracy: 0.8350 - val_loss: 0.7566 - val_accuracy: 0.7600\n",
      "Epoch 72/100\n",
      "10/10 [==============================] - 8s 835ms/step - loss: 0.4601 - accuracy: 0.8650 - val_loss: 1.3866 - val_accuracy: 0.6600\n",
      "Epoch 73/100\n",
      "10/10 [==============================] - 8s 850ms/step - loss: 0.5260 - accuracy: 0.8400 - val_loss: 0.9246 - val_accuracy: 0.7400\n",
      "Epoch 74/100\n",
      "10/10 [==============================] - 8s 812ms/step - loss: 0.4687 - accuracy: 0.8700 - val_loss: 0.9597 - val_accuracy: 0.7200\n",
      "Epoch 75/100\n",
      "10/10 [==============================] - 9s 891ms/step - loss: 0.4518 - accuracy: 0.8650 - val_loss: 0.7428 - val_accuracy: 0.7800\n",
      "Epoch 76/100\n",
      "10/10 [==============================] - 9s 960ms/step - loss: 0.6091 - accuracy: 0.8400 - val_loss: 1.1475 - val_accuracy: 0.7000\n",
      "Epoch 77/100\n",
      "10/10 [==============================] - 9s 905ms/step - loss: 0.4870 - accuracy: 0.8600 - val_loss: 0.7331 - val_accuracy: 0.7800\n",
      "Epoch 78/100\n",
      "10/10 [==============================] - 9s 864ms/step - loss: 0.4866 - accuracy: 0.8600 - val_loss: 0.7092 - val_accuracy: 0.8400\n",
      "Epoch 79/100\n",
      "10/10 [==============================] - 9s 898ms/step - loss: 0.4710 - accuracy: 0.8500 - val_loss: 0.7538 - val_accuracy: 0.8000\n",
      "Epoch 80/100\n",
      "10/10 [==============================] - 8s 860ms/step - loss: 0.3862 - accuracy: 0.9150 - val_loss: 0.8136 - val_accuracy: 0.7800\n",
      "Epoch 81/100\n",
      "10/10 [==============================] - 9s 887ms/step - loss: 0.3837 - accuracy: 0.8950 - val_loss: 0.5260 - val_accuracy: 0.8200\n",
      "Epoch 82/100\n",
      "10/10 [==============================] - 8s 864ms/step - loss: 0.4053 - accuracy: 0.8600 - val_loss: 0.8036 - val_accuracy: 0.8400\n",
      "Epoch 83/100\n",
      "10/10 [==============================] - 8s 847ms/step - loss: 0.5184 - accuracy: 0.8500 - val_loss: 0.9878 - val_accuracy: 0.6800\n",
      "Epoch 84/100\n",
      "10/10 [==============================] - 9s 869ms/step - loss: 0.4621 - accuracy: 0.8600 - val_loss: 0.8993 - val_accuracy: 0.7600\n",
      "Epoch 85/100\n",
      "10/10 [==============================] - 9s 881ms/step - loss: 0.4190 - accuracy: 0.8650 - val_loss: 1.2879 - val_accuracy: 0.7200\n",
      "Epoch 86/100\n",
      "10/10 [==============================] - 8s 856ms/step - loss: 0.3458 - accuracy: 0.8800 - val_loss: 0.7956 - val_accuracy: 0.7600\n",
      "Epoch 87/100\n",
      "10/10 [==============================] - 9s 871ms/step - loss: 0.2678 - accuracy: 0.9200 - val_loss: 0.8096 - val_accuracy: 0.7600\n",
      "Epoch 88/100\n",
      "10/10 [==============================] - 9s 906ms/step - loss: 0.3135 - accuracy: 0.9000 - val_loss: 0.7433 - val_accuracy: 0.8600\n",
      "Epoch 89/100\n",
      "10/10 [==============================] - 9s 878ms/step - loss: 0.2825 - accuracy: 0.9150 - val_loss: 0.9151 - val_accuracy: 0.8000\n",
      "Epoch 90/100\n",
      "10/10 [==============================] - 8s 846ms/step - loss: 0.3818 - accuracy: 0.9000 - val_loss: 1.4012 - val_accuracy: 0.6600\n",
      "Epoch 91/100\n",
      "10/10 [==============================] - 8s 861ms/step - loss: 0.3002 - accuracy: 0.8950 - val_loss: 0.5626 - val_accuracy: 0.7600\n",
      "Epoch 92/100\n",
      "10/10 [==============================] - 8s 846ms/step - loss: 0.3812 - accuracy: 0.8750 - val_loss: 0.5984 - val_accuracy: 0.8600\n",
      "Epoch 93/100\n",
      "10/10 [==============================] - 8s 858ms/step - loss: 0.4850 - accuracy: 0.8400 - val_loss: 0.9254 - val_accuracy: 0.7600\n",
      "Epoch 94/100\n",
      "10/10 [==============================] - 8s 859ms/step - loss: 0.3887 - accuracy: 0.8650 - val_loss: 1.0931 - val_accuracy: 0.7800\n",
      "Epoch 95/100\n",
      "10/10 [==============================] - 8s 849ms/step - loss: 0.3913 - accuracy: 0.8950 - val_loss: 0.6074 - val_accuracy: 0.8600\n",
      "Epoch 96/100\n",
      "10/10 [==============================] - 8s 869ms/step - loss: 0.3389 - accuracy: 0.9250 - val_loss: 0.6389 - val_accuracy: 0.8200\n",
      "Epoch 97/100\n",
      "10/10 [==============================] - 9s 882ms/step - loss: 0.2790 - accuracy: 0.9000 - val_loss: 0.8373 - val_accuracy: 0.7400\n",
      "Epoch 98/100\n",
      "10/10 [==============================] - 85s 9s/step - loss: 0.3507 - accuracy: 0.8850 - val_loss: 0.8335 - val_accuracy: 0.7800\n",
      "Epoch 99/100\n",
      "10/10 [==============================] - 10s 1s/step - loss: 0.4408 - accuracy: 0.8850 - val_loss: 0.7426 - val_accuracy: 0.8000\n",
      "Epoch 100/100\n",
      "10/10 [==============================] - 10s 954ms/step - loss: 0.3279 - accuracy: 0.8800 - val_loss: 0.6765 - val_accuracy: 0.8000\n"
     ]
    }
   ],
   "source": [
    "history = classifier.fit_generator(training_set, epochs =100,\n",
    "                                  validation_data=validation_set)"
   ]
  },
  {
   "cell_type": "code",
   "execution_count": null,
   "id": "e5ba80f7",
   "metadata": {},
   "outputs": [],
   "source": []
  },
  {
   "cell_type": "code",
   "execution_count": null,
   "id": "0fb596b5",
   "metadata": {},
   "outputs": [],
   "source": [
    "#Displaying curves of loss and accuracy during training"
   ]
  },
  {
   "cell_type": "code",
   "execution_count": 76,
   "id": "b208c4af",
   "metadata": {},
   "outputs": [],
   "source": [
    "import matplotlib.pyplot as plt"
   ]
  },
  {
   "cell_type": "code",
   "execution_count": 77,
   "id": "661ff31e",
   "metadata": {},
   "outputs": [],
   "source": [
    "acc = history.history['accuracy']"
   ]
  },
  {
   "cell_type": "code",
   "execution_count": 78,
   "id": "fee6cad0",
   "metadata": {},
   "outputs": [],
   "source": [
    "val_acc = history.history['val_accuracy']"
   ]
  },
  {
   "cell_type": "code",
   "execution_count": 79,
   "id": "b81a782b",
   "metadata": {},
   "outputs": [],
   "source": [
    "loss = history.history['loss']"
   ]
  },
  {
   "cell_type": "code",
   "execution_count": 80,
   "id": "32a8ec9e",
   "metadata": {},
   "outputs": [],
   "source": [
    "val_loss = history.history['val_loss']"
   ]
  },
  {
   "cell_type": "code",
   "execution_count": 81,
   "id": "18374cbe",
   "metadata": {},
   "outputs": [],
   "source": [
    "epochs = range(1, len(acc) + 1)"
   ]
  },
  {
   "cell_type": "code",
   "execution_count": 82,
   "id": "9e1bc8ea",
   "metadata": {},
   "outputs": [
    {
     "data": {
      "text/plain": [
       "<Figure size 432x288 with 0 Axes>"
      ]
     },
     "execution_count": 82,
     "metadata": {},
     "output_type": "execute_result"
    },
    {
     "data": {
      "image/png": "[encoded data removed]",
      "text/plain": [
       "<Figure size 432x288 with 1 Axes>"
      ]
     },
     "metadata": {
      "needs_background": "light"
     },
     "output_type": "display_data"
    },
    {
     "data": {
      "text/plain": [
       "<Figure size 432x288 with 0 Axes>"
      ]
     },
     "metadata": {},
     "output_type": "display_data"
    }
   ],
   "source": [
    "plt.plot(epochs, acc, 'bo', label='Training acc')\n",
    "plt.plot(epochs, val_acc, 'g', label='Validation acc')\n",
    "plt.title('Training and validation accuracy')\n",
    "plt.legend()\n",
    "plt.figure()"
   ]
  },
  {
   "cell_type": "code",
   "execution_count": 83,
   "id": "b9a1412f",
   "metadata": {},
   "outputs": [
    {
     "data": {
      "text/plain": [
       "<Figure size 432x288 with 0 Axes>"
      ]
     },
     "execution_count": 83,
     "metadata": {},
     "output_type": "execute_result"
    },
    {
     "data": {
      "image/png": "[encoded data removed]",
      "text/plain": [
       "<Figure size 432x288 with 1 Axes>"
      ]
     },
     "metadata": {
      "needs_background": "light"
     },
     "output_type": "display_data"
    },
    {
     "data": {
      "text/plain": [
       "<Figure size 432x288 with 0 Axes>"
      ]
     },
     "metadata": {},
     "output_type": "display_data"
    }
   ],
   "source": [
    "plt.plot(epochs, loss, 'bo', label='Training loss')\n",
    "plt.plot(epochs, val_loss, 'g', label='Validation loss')\n",
    "plt.title('Training and validation loss')\n",
    "plt.legend()\n",
    "plt.figure()"
   ]
  },
  {
   "cell_type": "code",
   "execution_count": null,
   "id": "3ec302f7",
   "metadata": {},
   "outputs": [],
   "source": [
    " "
   ]
  },
  {
   "cell_type": "code",
   "execution_count": null,
   "id": "16f07878",
   "metadata": {},
   "outputs": [],
   "source": []
  }
 ],
 "metadata": {
  "kernelspec": {
   "display_name": "Python 3 (ipykernel)",
   "language": "python",
   "name": "python3"
  },
  "language_info": {
   "codemirror_mode": {
    "name": "ipython",
    "version": 3
   },
   "file_extension": ".py",
   "mimetype": "text/x-python",
   "name": "python",
   "nbconvert_exporter": "python",
   "pygments_lexer": "ipython3",
   "version": "3.9.12"
  }
 },
 "nbformat": 4,
 "nbformat_minor": 5
}
